{
 "cells": [
  {
   "cell_type": "markdown",
   "metadata": {},
   "source": [
    "# RF Example"
   ]
  },
  {
   "cell_type": "code",
   "execution_count": null,
   "metadata": {},
   "outputs": [],
   "source": [
    "import numpy as np\n",
    "from scipy.constants import c\n",
    "from layerlumos.utils import load_material, interpolate_material, load_material_RF\n",
    "from layerlumos.layerlumos import stackrt, stackrt0\n",
    "import matplotlib.pyplot as plt\n",
    "import numpy as np"
   ]
  },
  {
   "cell_type": "code",
   "execution_count": null,
   "metadata": {},
   "outputs": [],
   "source": [
    "frequencies = np.linspace(8e9, 18e9, 100)  # Convert wavelengths to frequencies\n",
    "\n",
    "# Interpolate n and k values for SiO2 over the specified frequency range\n",
    "n_k_si02 = load_material_RF('Ag', frequencies)\n",
    "n_si02 = n_k_si02[:, 1] + 1j*n_k_si02[:, 2]  # Combine n and k into a complex refractive index\n",
    "\n",
    "# Define stack configuration\n",
    "n_air = np.ones_like(frequencies)  # Refractive index of air is approximately 1\n",
    "d_air = np.array([0])\n",
    "d_si02 = np.array([5e-8])  # Thickness of SiO2 layer in meters (e.g., 2 microns)\n",
    "\n",
    "# Stack refractive indices and thicknesses for air-SiO2-air\n",
    "n_stack = np.vstack([n_air, n_si02, n_air]).T  # Transpose to match expected shape (Nlayers x Nfreq)\n",
    "d_stack = np.vstack([d_air, d_si02, d_air])  # No frequency dependence on thickness\n",
    "\n",
    "# Calculate R and T over the frequency (wavelength) range\n",
    "R_TE, T_TE, R_TM, T_TM = stackrt0(n_stack, d_stack, frequencies)\n",
    "\n",
    "# Calculate average R and T\n",
    "SE_TE = -10 * np.log10(T_TE)\n",
    "SE_TM = -10 * np.log10(T_TM)\n",
    "SE = (SE_TE + SE_TM) / 2\n",
    "\n",
    "print(np.mean(SE))"
   ]
  }
 ],
 "metadata": {
  "kernelspec": {
   "display_name": "base",
   "language": "python",
   "name": "python3"
  },
  "language_info": {
   "name": "python",
   "version": "3.11.5"
  }
 },
 "nbformat": 4,
 "nbformat_minor": 2
}
